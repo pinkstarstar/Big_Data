{
 "cells": [
  {
   "cell_type": "code",
   "execution_count": 1,
   "id": "0fadf17d",
   "metadata": {},
   "outputs": [
    {
     "name": "stdout",
     "output_type": "stream",
     "text": [
      "请输入学生1的姓名：王凤仪\n",
      "请输入学生2的姓名：张然\n"
     ]
    },
    {
     "data": {
      "text/html": [
       "<table border=\"1\" class=\"dataframe\">\n",
       "    <thead>\n",
       "        <tr>\n",
       "            <th>考试序号</th> <th>学生1的名次</th>\n",
       "        </tr>\n",
       "    </thead>\n",
       "    <tbody>\n",
       "        <tr>\n",
       "            <td>1   </td> <td>85    </td>\n",
       "        </tr>\n",
       "        <tr>\n",
       "            <td>2   </td> <td>176   </td>\n",
       "        </tr>\n",
       "        <tr>\n",
       "            <td>3   </td> <td>69    </td>\n",
       "        </tr>\n",
       "        <tr>\n",
       "            <td>4   </td> <td>143   </td>\n",
       "        </tr>\n",
       "        <tr>\n",
       "            <td>5   </td> <td>151   </td>\n",
       "        </tr>\n",
       "        <tr>\n",
       "            <td>6   </td> <td>108   </td>\n",
       "        </tr>\n",
       "        <tr>\n",
       "            <td>7   </td> <td>477   </td>\n",
       "        </tr>\n",
       "    </tbody>\n",
       "</table>"
      ],
      "text/plain": [
       "<IPython.core.display.HTML object>"
      ]
     },
     "metadata": {},
     "output_type": "display_data"
    },
    {
     "data": {
      "text/html": [
       "<table border=\"1\" class=\"dataframe\">\n",
       "    <thead>\n",
       "        <tr>\n",
       "            <th>考试序号</th> <th>学生2的名次</th>\n",
       "        </tr>\n",
       "    </thead>\n",
       "    <tbody>\n",
       "        <tr>\n",
       "            <td>1   </td> <td>266   </td>\n",
       "        </tr>\n",
       "        <tr>\n",
       "            <td>2   </td> <td>365   </td>\n",
       "        </tr>\n",
       "        <tr>\n",
       "            <td>3   </td> <td>248   </td>\n",
       "        </tr>\n",
       "        <tr>\n",
       "            <td>4   </td> <td>147   </td>\n",
       "        </tr>\n",
       "        <tr>\n",
       "            <td>5   </td> <td>409   </td>\n",
       "        </tr>\n",
       "        <tr>\n",
       "            <td>6   </td> <td>121   </td>\n",
       "        </tr>\n",
       "        <tr>\n",
       "            <td>7   </td> <td>292   </td>\n",
       "        </tr>\n",
       "    </tbody>\n",
       "</table>"
      ],
      "text/plain": [
       "<IPython.core.display.HTML object>"
      ]
     },
     "metadata": {},
     "output_type": "display_data"
    },
    {
     "data": {
      "image/png": "[encoded data removed]",
      "text/plain": [
       "<Figure size 432x288 with 1 Axes>"
      ]
     },
     "metadata": {
      "needs_background": "light"
     },
     "output_type": "display_data"
    }
   ],
   "source": [
    "from datascience import *\n",
    "import matplotlib.pyplot as plt\n",
    "import numpy as np\n",
    "\n",
    "#import matplotlib\n",
    "#matplotlib.use('TkAgg')\n",
    "%matplotlib inline\n",
    "\n",
    "def extract_rank(data,name):\n",
    "    temp = data.where('姓名',are.equal_to(name)).column(11).item(0)\n",
    "    return temp\n",
    "\n",
    "minard1 = Table.read_table('./test/20211105-utf-8.csv')\n",
    "minard2 = Table.read_table('./test/20211106-utf-8.csv')\n",
    "minard3 = Table.read_table('./test/20211107-utf-8.csv')\n",
    "minard4 = Table.read_table('./test/20211108-utf-8.csv')\n",
    "minard5 = Table.read_table('./test/20211109-utf-8.csv')\n",
    "minard6 = Table.read_table('./test/20211109-1-utf-8.csv')\n",
    "minard7 = Table.read_table('./test/20211110-utf-8.csv')\n",
    "\n",
    "stu1=input(\"请输入学生1的姓名：\")\n",
    "stu2=input(\"请输入学生2的姓名：\")\n",
    "\n",
    "#两位同学某一次成绩的排名情况存入相对应的数组中\n",
    "rank1 = {}\n",
    "rank2 = {}\n",
    "rank3 = {}\n",
    "rank4 = {}\n",
    "rank5 = {}\n",
    "rank6 = {}\n",
    "rank7 = {}\n",
    "\n",
    "rank1[0] = extract_rank(minard1,stu1)\n",
    "rank2[0] = extract_rank(minard2,stu1)\n",
    "rank3[0] = extract_rank(minard3,stu1)\n",
    "rank4[0] = extract_rank(minard4,stu1)\n",
    "rank5[0] = extract_rank(minard5,stu1)\n",
    "rank6[0] = extract_rank(minard6,stu1)\n",
    "rank7[0] = extract_rank(minard7,stu1)\n",
    "\n",
    "rank1[1] = extract_rank(minard1,stu2)\n",
    "rank2[1] = extract_rank(minard2,stu2)\n",
    "rank3[1] = extract_rank(minard3,stu2)\n",
    "rank4[1] = extract_rank(minard4,stu2)\n",
    "rank5[1] = extract_rank(minard5,stu2)\n",
    "rank6[1] = extract_rank(minard6,stu2)\n",
    "rank7[1] = extract_rank(minard7,stu2)\n",
    "\n",
    "#某位同学七次考试的排名\n",
    "rank_stu1 = make_array(rank1[0],rank2[0],rank3[0],rank4[0],rank5[0],rank6[0],rank7[0])\n",
    "rank_stu2 = make_array(rank1[1],rank2[1],rank3[1],rank4[1],rank5[1],rank6[1],rank7[1])\n",
    "\n",
    "results = Table().with_columns('考试序号',make_array(1,2,3,4,5,6,7),'学生1的名次',rank_stu1)\n",
    "results.show()\n",
    "results = Table().with_columns('考试序号',make_array(1,2,3,4,5,6,7),'学生2的名次',rank_stu2)\n",
    "results.show()\n",
    "\n",
    "plt.plot(make_array(1,2,3,4,5,6,7),rank_stu1,'o--',label=stu1)\n",
    "plt.plot(make_array(1,2,3,4,5,6,7),rank_stu2,'o--',label=stu2)\n",
    "\n",
    "plt.xlabel('历次考试')\n",
    "plt.ylabel('年级排名')\n",
    "\n",
    "plt.axis([1,7,800,1])\n",
    "plt.legend(loc='upper right')\n",
    "\n",
    "plt.rcParams['font.sans-serif']=['Microsoft YaHei']\n",
    "\n",
    "plt.grid()\n",
    "plt.show()"
   ]
  },
  {
   "cell_type": "code",
   "execution_count": null,
   "id": "606a66b8",
   "metadata": {},
   "outputs": [],
   "source": []
  }
 ],
 "metadata": {
  "kernelspec": {
   "display_name": "Python 3",
   "language": "python",
   "name": "python3"
  },
  "language_info": {
   "codemirror_mode": {
    "name": "ipython",
    "version": 3
   },
   "file_extension": ".py",
   "mimetype": "text/x-python",
   "name": "python",
   "nbconvert_exporter": "python",
   "pygments_lexer": "ipython3",
   "version": "3.8.8"
  }
 },
 "nbformat": 4,
 "nbformat_minor": 5
}
