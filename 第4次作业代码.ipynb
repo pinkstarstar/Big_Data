{
 "cells": [
  {
   "cell_type": "code",
   "execution_count": null,
   "id": "20237097",
   "metadata": {},
   "outputs": [],
   "source": [
    "from datascience import *\n",
    "\n",
    "data1 = Table.read_table('./test1/hadoop.csv')\n",
    "data2 = Table.read_table('./test1/hive.csv')\n",
    "data3 = Table.read_table('./test1/spark.csv')\n",
    "data4 = Table.read_table('./test1/高数监考表.csv')\n",
    "\n",
    "def fileter_info(sourec,name):\n",
    "    a = sourec.where(\"姓名\",name)\n",
    "    date = a[2]\n",
    "    time = a[3]\n",
    "    classroom = a[4]\n",
    "    subject =a[5]\n",
    "    return [date,time,classroom,subject]\n",
    "\n",
    "name = input(\"请输入要查询信息的姓名：\")\n",
    "\n",
    "hadoop = fileter_info(data1,name)\n",
    "hive = fileter_info(data2,name)\n",
    "spark = fileter_info(data3,name)\n",
    "math = fileter_info(data4,name)\n",
    "\n",
    "date_array = (hadoop[0],hive[0],spark[0],math[0])\n",
    "time_array = (hadoop[1],hive[1],spark[1],math[1])\n",
    "classroom_array = (hadoop[2],hive[2],spark[2],math[2])\n",
    "subject_array = (hadoop[3],hive[3],spark[3],math[3])\n",
    "\n",
    "table = Table().with_columns(\"日期\",date_array,\"时间\",time_array,\"考场\",classroom_array,\"科目\",subject_array)\n",
    "table"
   ]
  },
  {
   "cell_type": "code",
   "execution_count": null,
   "id": "87824aa5",
   "metadata": {},
   "outputs": [],
   "source": []
  }
 ],
 "metadata": {
  "kernelspec": {
   "display_name": "Python 3",
   "language": "python",
   "name": "python3"
  },
  "language_info": {
   "codemirror_mode": {
    "name": "ipython",
    "version": 3
   },
   "file_extension": ".py",
   "mimetype": "text/x-python",
   "name": "python",
   "nbconvert_exporter": "python",
   "pygments_lexer": "ipython3",
   "version": "3.8.8"
  }
 },
 "nbformat": 4,
 "nbformat_minor": 5
}
