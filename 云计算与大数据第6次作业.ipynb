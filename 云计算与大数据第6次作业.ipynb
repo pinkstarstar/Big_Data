{
 "cells": [
  {
   "cell_type": "code",
   "execution_count": 1,
   "id": "428dcbbb",
   "metadata": {},
   "outputs": [],
   "source": [
    "from datascience import *\n",
    "\n",
    "minard1 = Table.read_table('./test/20211105-utf-8.csv')\n",
    "minard2 = Table.read_table('./test/20211106-utf-8.csv')\n",
    "minard3 = Table.read_table('./test/20211107-utf-8.csv')\n",
    "minard4 = Table.read_table('./test/20211108-utf-8.csv')\n",
    "minard5 = Table.read_table('./test/20211109-utf-8.csv')\n",
    "minard6 = Table.read_table('./test/20211109-1-utf-8.csv')\n",
    "minard7 = Table.read_table('./test/20211110-utf-8.csv')"
   ]
  },
  {
   "cell_type": "code",
   "execution_count": 2,
   "id": "5bf6d7aa",
   "metadata": {},
   "outputs": [],
   "source": [
    "import numpy as np\n",
    "import matplotlib\n",
    "import matplotlib.pyplot as plt\n",
    "\n",
    "%matplotlib inline\n",
    "\n",
    "def extract_fenshu(minard,name):\n",
    "    temp = minard.where('姓名', are.equal_to(name)).column(10).item(0)\n",
    "    return temp\n",
    "\n",
    "total = []\n",
    "names = minard1.select(2)\n",
    "for name in names.column('姓名'):\n",
    "    a = make_array(extract_fenshu(minard1,name),\n",
    "                   extract_fenshu(minard2,name),\n",
    "                   extract_fenshu(minard3,name),\n",
    "                   extract_fenshu(minard4,name),\n",
    "                   extract_fenshu(minard5,name),\n",
    "                   extract_fenshu(minard6,name),\n",
    "                   extract_fenshu(minard7,name))\n",
    "    total.append(a.sum())\n",
    "\n",
    "b = names.with_columns('总分',np.array(total))\n",
    "print(names.num_rows)\n",
    "b.sort('总分',descending=True).show()\n"
   ]
  },
  {
   "cell_type": "code",
   "execution_count": null,
   "id": "128d67f0",
   "metadata": {},
   "outputs": [],
   "source": []
  }
 ],
 "metadata": {
  "kernelspec": {
   "display_name": "Python 3",
   "language": "python",
   "name": "python3"
  },
  "language_info": {
   "codemirror_mode": {
    "name": "ipython",
    "version": 3
   },
   "file_extension": ".py",
   "mimetype": "text/x-python",
   "name": "python",
   "nbconvert_exporter": "python",
   "pygments_lexer": "ipython3",
   "version": "3.8.8"
  }
 },
 "nbformat": 4,
 "nbformat_minor": 5
}
